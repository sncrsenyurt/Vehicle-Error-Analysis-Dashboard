{
 "cells": [
  {
   "cell_type": "code",
   "execution_count": 3,
   "metadata": {},
   "outputs": [],
   "source": [
    "import pandas as pd\n",
    "import random\n",
    "from datetime import datetime, timedelta\n",
    "\n",
    "# Hata kodları ve açıklamaları\n",
    "troubleshooting_descriptions = {\n",
    "    \"WA009\": \"Drivers: steeringTrackingLost\\nSTARTUP_CHECKS_FAILED\\nmay also work for other LLC errors\",\n",
    "    \"WA041\": \"Cameras 19-22: camera_internal_state_error\\nvision orchestration process aborted\\nmay also work for other Camera errors\",\n",
    "    \"WA042\": \"Cameras 1-18: camera_internal_state_error\\nvision orchestration process aborted\\nmay also work for other Camera errors\",\n",
    "    \"WA043\": \"Logger Status: Chum Recorder is not recording to external drives.\\nDisk is not connected at USB 3.0 speed.\\nDisk is not mounted.\",\n",
    "    \"WA047\": \"Radar Communication Failure: Data_Invalid\",\n",
    "    \"WA066\": \"Lidar: PTPTimeSyncFault\",\n",
    "    \"WA070\": \"Drivers: LinkStabilityLow\",\n",
    "    \"WA065\": \"Radar: RadarOutputSilent\\nRadarDataMissing\\nInvalidPtl\",\n",
    "    \"WA050.a\": \"SideKick: DataDependency\",\n",
    "    \"WA050.b\": \"SideKick: Unable to complete mic check with 'Say Hello Hero'\",\n",
    "    \"WA050.c\": \"SideKick: Unable to start mic check with ADR button not responsive\"\n",
    "}\n",
    "\n",
    "# Hata kodlarına atanan ağırlıklar (bazı kodlar daha sık seçilecek şekilde)\n",
    "error_codes = list(troubleshooting_descriptions.keys())\n",
    "weights = [\n",
    "    20,  # WA009\n",
    "    15,  # WA041\n",
    "    15,  # WA042\n",
    "    10,  # WA043\n",
    "    12,  # WA047\n",
    "    8,   # WA066\n",
    "    18,  # WA070\n",
    "    5,   # WA065\n",
    "    3,   # WA050.a\n",
    "    2,   # WA050.b\n",
    "    1    # WA050.c\n",
    "]\n",
    "\n",
    "def random_date():\n",
    "    # Bugünün tarihi olarak 2024-08-23'ü kullanıyoruz\n",
    "    end_date = datetime(2024, 8, 23)\n",
    "    start_date = end_date - timedelta(days=3*365)  # Yaklaşık 3 yıl önce\n",
    "    delta = end_date - start_date\n",
    "    random_days = random.randint(0, delta.days)\n",
    "    return start_date + timedelta(days=random_days)\n",
    "\n",
    "data = []\n",
    "for _ in range(5000):\n",
    "    car_number = f\"car-{random.randint(100, 120)}\"\n",
    "    time = random.randint(1, 30)\n",
    "    date = random_date().strftime(\"%m-%d-%Y\")\n",
    "    code = random.choices(error_codes, weights=weights, k=1)[0]\n",
    "    description = troubleshooting_descriptions[code]\n",
    "    data.append([car_number, code, time, date, description])\n",
    "\n",
    "df = pd.DataFrame(data, columns=[\"Car Number\", \"Troubleshooting Code\", \"Time (min)\", \"Date\", \"Description\"])\n",
    "df.to_excel(\"Basic_Data.xlsx\", index=False)\n"
   ]
  }
 ],
 "metadata": {
  "kernelspec": {
   "display_name": "PythonData",
   "language": "python",
   "name": "python3"
  },
  "language_info": {
   "codemirror_mode": {
    "name": "ipython",
    "version": 3
   },
   "file_extension": ".py",
   "mimetype": "text/x-python",
   "name": "python",
   "nbconvert_exporter": "python",
   "pygments_lexer": "ipython3",
   "version": "3.7.7"
  }
 },
 "nbformat": 4,
 "nbformat_minor": 2
}
